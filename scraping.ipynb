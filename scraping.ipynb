{
 "cells": [
  {
   "cell_type": "code",
   "execution_count": null,
   "id": "97a4ed50-d660-4c39-bde1-c68ce103ebde",
   "metadata": {},
   "outputs": [],
   "source": [
    "import requests"
   ]
  },
  {
   "cell_type": "code",
   "execution_count": null,
   "id": "c19dc935-83cc-4dc8-b6ba-34ac1e499733",
   "metadata": {},
   "outputs": [],
   "source": [
    "standings_url = \"https://fbref.com/en/comps/9/2023-2024/2023-2024-Premier-League-Stats\""
   ]
  },
  {
   "cell_type": "code",
   "execution_count": null,
   "id": "dae0dfd3-3fb6-4fc3-bf81-df9d0f6cfa4d",
   "metadata": {},
   "outputs": [],
   "source": [
    "data=requests.get(standings_url)"
   ]
  },
  {
   "cell_type": "code",
   "execution_count": null,
   "id": "d3618c38-ec63-498b-bc9b-e3356c78f649",
   "metadata": {},
   "outputs": [],
   "source": [
    "from bs4 import BeautifulSoup"
   ]
  },
  {
   "cell_type": "code",
   "execution_count": null,
   "id": "746c62dc-df71-4792-bea0-4e011c9068d6",
   "metadata": {},
   "outputs": [],
   "source": [
    "soup = BeautifulSoup(data.text)"
   ]
  },
  {
   "cell_type": "code",
   "execution_count": null,
   "id": "b781c456-3a34-4cc2-8d85-f80b80a721fa",
   "metadata": {},
   "outputs": [],
   "source": [
    "standings_table = soup.select('table.stats_table')[0]"
   ]
  },
  {
   "cell_type": "code",
   "execution_count": null,
   "id": "ac7d2a5c-8762-4a70-9b9b-d7d295f46fce",
   "metadata": {},
   "outputs": [],
   "source": [
    "links = standings_table.find_all('a')"
   ]
  },
  {
   "cell_type": "code",
   "execution_count": null,
   "id": "a91abb65-ec88-42cc-be1f-c62add6aeef6",
   "metadata": {},
   "outputs": [],
   "source": [
    "links = [l.get('href') for l in links]"
   ]
  },
  {
   "cell_type": "code",
   "execution_count": null,
   "id": "a41b5f30-9485-4afb-b5ae-c013bd6c1f35",
   "metadata": {},
   "outputs": [],
   "source": [
    "links = [l for l in links if ('/squads/') in l]"
   ]
  },
  {
   "cell_type": "code",
   "execution_count": null,
   "id": "8ea0d28d-4e5a-454c-850e-5ac81b99d530",
   "metadata": {},
   "outputs": [],
   "source": [
    "links"
   ]
  },
  {
   "cell_type": "code",
   "execution_count": null,
   "id": "f2b46425-6619-4534-bcfe-06553cc3921b",
   "metadata": {},
   "outputs": [],
   "source": [
    "team_urls = [f\"https://fbref.com{l}\" for l in links]"
   ]
  },
  {
   "cell_type": "code",
   "execution_count": null,
   "id": "d38353c4-08c6-453f-8a84-96e451852bc5",
   "metadata": {},
   "outputs": [],
   "source": [
    "team_urls"
   ]
  },
  {
   "cell_type": "code",
   "execution_count": null,
   "id": "16d21786-735f-4bd1-a33c-4c56157371d5",
   "metadata": {},
   "outputs": [],
   "source": [
    "team_url = team_urls[0]"
   ]
  },
  {
   "cell_type": "code",
   "execution_count": null,
   "id": "d3c1c67e-ed8a-4001-8b93-a28ea27984a9",
   "metadata": {},
   "outputs": [],
   "source": [
    "data = requests.get(team_url)"
   ]
  },
  {
   "cell_type": "code",
   "execution_count": null,
   "id": "ceb2cae9-e9bd-4d83-a38e-5c56b2db6b76",
   "metadata": {},
   "outputs": [],
   "source": [
    "import pandas as pd \n",
    "matches = pd.read_html(data.text, match = \"Scores & Fixtures\")"
   ]
  },
  {
   "cell_type": "code",
   "execution_count": null,
   "id": "45bd7188-bf94-4fab-9eff-116828bb3fd8",
   "metadata": {},
   "outputs": [],
   "source": [
    "matches[0]"
   ]
  },
  {
   "cell_type": "code",
   "execution_count": null,
   "id": "a2eeb20b-5443-4f47-b6bf-88143949fd8b",
   "metadata": {},
   "outputs": [],
   "source": [
    "soup = BeautifulSoup(data.text)\n"
   ]
  },
  {
   "cell_type": "code",
   "execution_count": null,
   "id": "43eda604-6ea0-44ae-93bf-f944ab4a0fe3",
   "metadata": {},
   "outputs": [],
   "source": [
    "links = soup.find_all('a')"
   ]
  },
  {
   "cell_type": "code",
   "execution_count": null,
   "id": "96b03d22-6554-454c-aec4-9b10bb3a4525",
   "metadata": {},
   "outputs": [],
   "source": [
    "links = [l.get('href') for l in links]"
   ]
  },
  {
   "cell_type": "code",
   "execution_count": null,
   "id": "cb96e520-396e-4e30-92b1-7d536d8bd63c",
   "metadata": {},
   "outputs": [],
   "source": [
    "links = [l for l in links if l and ('all_comps/shooting/') in l]"
   ]
  },
  {
   "cell_type": "code",
   "execution_count": null,
   "id": "e2ad531e-9afa-40a5-9dc1-d2ebb9378df0",
   "metadata": {},
   "outputs": [],
   "source": [
    "links"
   ]
  },
  {
   "cell_type": "code",
   "execution_count": null,
   "id": "8d20ea38-700e-461c-a9b1-cfd578137deb",
   "metadata": {},
   "outputs": [],
   "source": [
    "data = requests.get(f\"https://fbref.com{links[0]}\")"
   ]
  },
  {
   "cell_type": "code",
   "execution_count": null,
   "id": "a6d90367-5261-4621-800c-0cff2750ff9c",
   "metadata": {},
   "outputs": [],
   "source": [
    "shooting = pd.read_html(data.text, match = \"Shooting\")[0]"
   ]
  },
  {
   "cell_type": "code",
   "execution_count": null,
   "id": "c3d4fb8b-5e4f-4d25-aac0-bee65eaaac8c",
   "metadata": {},
   "outputs": [],
   "source": [
    "shooting.head()"
   ]
  },
  {
   "cell_type": "code",
   "execution_count": null,
   "id": "b365a593-9db6-4101-9fda-c38175783b62",
   "metadata": {},
   "outputs": [],
   "source": [
    "shooting.columns = shooting.columns.droplevel()"
   ]
  },
  {
   "cell_type": "code",
   "execution_count": null,
   "id": "cb043920-b576-433f-9b07-9f43aec3e13c",
   "metadata": {},
   "outputs": [],
   "source": [
    "shooting.head()"
   ]
  },
  {
   "cell_type": "code",
   "execution_count": null,
   "id": "3633202b-68d4-496b-8620-daf0d33c514a",
   "metadata": {},
   "outputs": [],
   "source": [
    "team_data = matches[0].merge(shooting[[\"Date\",\"Sh\",\"SoT\",\"Dist\",\"FK\",\"PK\",\"PKatt\",\"xG\"]], on = \"Date\")"
   ]
  },
  {
   "cell_type": "code",
   "execution_count": null,
   "id": "c781056e-5df7-42b0-987e-846e1dbdbf51",
   "metadata": {},
   "outputs": [],
   "source": [
    "team_data.shape"
   ]
  },
  {
   "cell_type": "code",
   "execution_count": null,
   "id": "88e618ef-8f12-43c0-a450-fedb06008a67",
   "metadata": {},
   "outputs": [],
   "source": [
    "years = list(range(2024,2020,-1))"
   ]
  },
  {
   "cell_type": "code",
   "execution_count": null,
   "id": "91db341f-a1e8-49f5-9646-62a753b43484",
   "metadata": {},
   "outputs": [],
   "source": [
    "years"
   ]
  },
  {
   "cell_type": "code",
   "execution_count": null,
   "id": "76eccff6-84bb-40f0-9e14-de5959cf1531",
   "metadata": {},
   "outputs": [],
   "source": [
    "all_matches = []"
   ]
  },
  {
   "cell_type": "code",
   "execution_count": null,
   "id": "a30354ad-63e7-431b-9eb1-51317d44efef",
   "metadata": {},
   "outputs": [],
   "source": [
    "standings_url = \"https://fbref.com/en/comps/9/2023-2024/2023-2024-Premier-League-Stats\""
   ]
  },
  {
   "cell_type": "code",
   "execution_count": null,
   "id": "87d12608-fe6f-4375-84b5-c3b688ebdcb9",
   "metadata": {},
   "outputs": [],
   "source": [
    "import time, random\n",
    "for year in years: \n",
    "    data = requests.get(standings_url)\n",
    "    soup = BeautifulSoup(data.text)\n",
    "    league_tables = soup.find_all('table')\n",
    "    league_table = league_tables[0]\n",
    "    links = league_table.find_all('a')\n",
    "    links = [l.get('href') for l in links]\n",
    "    links = [l for l in links if ('/squads/') in l]\n",
    "    team_urls = [f\"https://fbref.com{l}\" for l in links]\n",
    "\n",
    "    prev_season = soup.select(\"a.prev\")[0].get('href')\n",
    "    standings_url = f\"https://fbref.com{prev_season}\"\n",
    "\n",
    "    \n",
    "    for team_url in team_urls: \n",
    "        team_name = team_url.split(\"/\")[-1].replace(\"-Stats\", \"\").replace(\"-\",\" \")\n",
    "        data = requests.get(team_url)\n",
    "        matches = pd.read_html(data.text, match ='Scores & Fixtures')[0]\n",
    "\n",
    "        soup = BeautifulSoup(data.text)\n",
    "        links = [l.get('href') for l in soup.find_all('a')]\n",
    "        links = [l for l in links if l and 'all_comps/shooting' in l]\n",
    "        data = requests.get(f\"https://fbref.com{links[0]}\")\n",
    "        shooting = pd.read_html(data.text,match=\"Shooting\")[0]\n",
    "        shooting.columns = shooting.columns.droplevel()\n",
    "        try:\n",
    "            team_data = matches.merge(shooting[['Date','Sh','SoT','Dist','FK','PK','PKatt']], on = \"Date\")\n",
    "        except ValueError: \n",
    "            continue\n",
    "\n",
    "        team_data = team_data[team_data[\"Comp\"] == 'Premier League']\n",
    "        team_data['Season'] = year\n",
    "        team_data['Team'] = team_name\n",
    "        all_matches.append(team_data)\n",
    "        time.sleep(random.uniform(6, 10))\n",
    "\n",
    "    "
   ]
  },
  {
   "cell_type": "code",
   "execution_count": null,
   "id": "9b831cb2-2c61-4e64-989d-105627ecf73d",
   "metadata": {},
   "outputs": [],
   "source": [
    "match_df = pd.concat(all_matches)"
   ]
  },
  {
   "cell_type": "code",
   "execution_count": null,
   "id": "082c2dc6-0b81-4ab9-a70c-3201f9775b05",
   "metadata": {},
   "outputs": [],
   "source": [
    "match_df.to_csv('matches_full.csv')"
   ]
  },
  {
   "cell_type": "code",
   "execution_count": null,
   "id": "2234c73d-84b4-43e5-a85d-237178e75161",
   "metadata": {},
   "outputs": [],
   "source": []
  },
  {
   "cell_type": "code",
   "execution_count": null,
   "id": "ac9cc42f-e305-42bc-96c7-bb7c72a913c2",
   "metadata": {},
   "outputs": [],
   "source": []
  }
 ],
 "metadata": {
  "kernelspec": {
   "display_name": "Python 3 (ipykernel)",
   "language": "python",
   "name": "python3"
  },
  "language_info": {
   "codemirror_mode": {
    "name": "ipython",
    "version": 3
   },
   "file_extension": ".py",
   "mimetype": "text/x-python",
   "name": "python",
   "nbconvert_exporter": "python",
   "pygments_lexer": "ipython3",
   "version": "3.10.4"
  }
 },
 "nbformat": 4,
 "nbformat_minor": 5
}
